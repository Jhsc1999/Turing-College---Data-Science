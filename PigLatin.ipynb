{
  "nbformat": 4,
  "nbformat_minor": 0,
  "metadata": {
    "colab": {
      "provenance": []
    },
    "kernelspec": {
      "name": "python3",
      "display_name": "Python 3"
    },
    "language_info": {
      "name": "python"
    }
  },
  "cells": [
    {
      "cell_type": "code",
      "execution_count": 30,
      "metadata": {
        "id": "5w016TalgFKF"
      },
      "outputs": [],
      "source": [
        "def pig_latin(x):\n",
        "  if x[0] in 'aeiou':\n",
        "    if x[0].isupper():\n",
        "      return x.capitalize()+'way'\n",
        "    else:\n",
        "      return x+'way'\n",
        "  else:\n",
        "    if x[0].isupper():\n",
        "      return x[1:].capitalize()+x[0].lower()+'ay'\n",
        "    else:\n",
        "      return x[1:]+x[0]+'ay'"
      ]
    },
    {
      "cell_type": "code",
      "source": [
        "pig_latin('Test')"
      ],
      "metadata": {
        "colab": {
          "base_uri": "https://localhost:8080/",
          "height": 35
        },
        "id": "jUCywvFJhU4l",
        "outputId": "aee36678-b142-4202-a3a1-51b537dc2dad"
      },
      "execution_count": 31,
      "outputs": [
        {
          "output_type": "execute_result",
          "data": {
            "text/plain": [
              "'Esttay'"
            ],
            "application/vnd.google.colaboratory.intrinsic+json": {
              "type": "string"
            }
          },
          "metadata": {},
          "execution_count": 31
        }
      ]
    },
    {
      "cell_type": "code",
      "source": [
        "def pig_latin_sentence(x):\n",
        "  words=x.split()\n",
        "  translation=[]\n",
        "  for x in words:\n",
        "    if x[0] in 'aeiou':\n",
        "      translation.append(x+'way')\n",
        "    else:\n",
        "      translation.append(x[1:]+x[0]+'ay')\n",
        "  result=' '.join(translation)\n",
        "  return result"
      ],
      "metadata": {
        "id": "ZMbd6a-Zhfz_"
      },
      "execution_count": 32,
      "outputs": []
    },
    {
      "cell_type": "code",
      "source": [
        "pig_latin_sentence('this is a test translation')"
      ],
      "metadata": {
        "colab": {
          "base_uri": "https://localhost:8080/",
          "height": 35
        },
        "id": "L3tt4UxQigk-",
        "outputId": "ece22865-4270-44fe-9ac4-a08aa643786a"
      },
      "execution_count": 33,
      "outputs": [
        {
          "output_type": "execute_result",
          "data": {
            "text/plain": [
              "'histay isway away esttay ranslationtay'"
            ],
            "application/vnd.google.colaboratory.intrinsic+json": {
              "type": "string"
            }
          },
          "metadata": {},
          "execution_count": 33
        }
      ]
    },
    {
      "cell_type": "code",
      "source": [
        "import string"
      ],
      "metadata": {
        "id": "ZiN4_uFNijbI"
      },
      "execution_count": 8,
      "outputs": []
    },
    {
      "cell_type": "code",
      "source": [
        "def pig_latin_2(x):\n",
        "  if x[-1] in string.punctuation:\n",
        "    if x[0] in 'aeiou':\n",
        "      if x[0].isupper():\n",
        "        return x[:-1].capitalize()+'way'+x[-1]\n",
        "      else:\n",
        "        return x[:-1]+'way'+x[-1]\n",
        "    else:\n",
        "      if x[0].isupper():\n",
        "        return x[1:-1].capitalize()+x[0].lower()+'ay'+x[-1]\n",
        "      else:\n",
        "        return x[1:-1]+x[0]+'ay'+x[-1]\n",
        "  else:\n",
        "    if x[0] in 'aeiou':\n",
        "      if x[0].isupper():\n",
        "        return x.capitalize()+'way'\n",
        "      else:\n",
        "        return x+'way'\n",
        "    else:\n",
        "      if x[0].isupper():\n",
        "        return x[1:].capitalize()+x[0].lower()+'ay'\n",
        "      else:\n",
        "        return x[1:]+x[0]+'ay'"
      ],
      "metadata": {
        "id": "t9LJS_FKjx76"
      },
      "execution_count": 34,
      "outputs": []
    },
    {
      "cell_type": "code",
      "source": [
        "pig_latin_2('Test')"
      ],
      "metadata": {
        "colab": {
          "base_uri": "https://localhost:8080/",
          "height": 35
        },
        "id": "g1FZUOFkjy_g",
        "outputId": "41916023-d38e-4844-bee8-ef09e368293c"
      },
      "execution_count": 35,
      "outputs": [
        {
          "output_type": "execute_result",
          "data": {
            "text/plain": [
              "'Esttay'"
            ],
            "application/vnd.google.colaboratory.intrinsic+json": {
              "type": "string"
            }
          },
          "metadata": {},
          "execution_count": 35
        }
      ]
    },
    {
      "cell_type": "code",
      "source": [
        "def pig_latin_sentence_2(x):\n",
        "  words=x.split(' ')\n",
        "  translation=[]\n",
        "  for i in words:\n",
        "    translation.append(pig_latin_2(i))\n",
        "  result=' '.join(translation)\n",
        "  return result"
      ],
      "metadata": {
        "id": "hi6jta8ufnRX"
      },
      "execution_count": 36,
      "outputs": []
    },
    {
      "cell_type": "code",
      "source": [
        "pig_latin_sentence_2('This is a test translation!')"
      ],
      "metadata": {
        "colab": {
          "base_uri": "https://localhost:8080/",
          "height": 35
        },
        "id": "Zj4v20xUfrtx",
        "outputId": "d8e54bfe-14ea-413f-d887-7f15cf2ba88d"
      },
      "execution_count": 38,
      "outputs": [
        {
          "output_type": "execute_result",
          "data": {
            "text/plain": [
              "'Histay isway away esttay ranslationtay!'"
            ],
            "application/vnd.google.colaboratory.intrinsic+json": {
              "type": "string"
            }
          },
          "metadata": {},
          "execution_count": 38
        }
      ]
    },
    {
      "cell_type": "code",
      "source": [],
      "metadata": {
        "id": "EEhJdRVBh7hd"
      },
      "execution_count": null,
      "outputs": []
    }
  ]
}