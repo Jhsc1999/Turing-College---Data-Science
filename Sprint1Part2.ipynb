{
  "nbformat": 4,
  "nbformat_minor": 0,
  "metadata": {
    "colab": {
      "provenance": []
    },
    "kernelspec": {
      "name": "python3",
      "display_name": "Python 3"
    },
    "language_info": {
      "name": "python"
    }
  },
  "cells": [
    {
      "cell_type": "code",
      "execution_count": 1,
      "metadata": {
        "id": "5w016TalgFKF"
      },
      "outputs": [],
      "source": [
        "def pig_latin(x):\n",
        "  vowels=['a', 'e', 'i', 'o', 'u']\n",
        "  if x[0] in vowels:\n",
        "    print(x+'way')\n",
        "  else:\n",
        "    print(x[1:]+x[0]+'ay')"
      ]
    },
    {
      "cell_type": "code",
      "source": [
        "pig_latin('test')"
      ],
      "metadata": {
        "colab": {
          "base_uri": "https://localhost:8080/"
        },
        "id": "jUCywvFJhU4l",
        "outputId": "7aacdc78-4744-47bb-9525-612a5308e6a3"
      },
      "execution_count": 19,
      "outputs": [
        {
          "output_type": "stream",
          "name": "stdout",
          "text": [
            "esttay\n"
          ]
        }
      ]
    },
    {
      "cell_type": "code",
      "source": [
        "def pig_latin_sentence(x):\n",
        "  words=x.split()\n",
        "  translation=[]\n",
        "  for x in words:\n",
        "    if x[0] in 'aeiou':\n",
        "      translation.append(x+'way')\n",
        "    else:\n",
        "      translation.append(x[1:]+x[0]+'ay')\n",
        "  result=' '.join(translation)\n",
        "  return result"
      ],
      "metadata": {
        "id": "ZMbd6a-Zhfz_"
      },
      "execution_count": 16,
      "outputs": []
    },
    {
      "cell_type": "code",
      "source": [
        "pig_latin_sentence('this is a test translation')"
      ],
      "metadata": {
        "colab": {
          "base_uri": "https://localhost:8080/",
          "height": 35
        },
        "id": "L3tt4UxQigk-",
        "outputId": "17e6508c-3a9c-4978-bb5c-1dba1a31d4c3"
      },
      "execution_count": 20,
      "outputs": [
        {
          "output_type": "execute_result",
          "data": {
            "text/plain": [
              "'histay isway away esttay ranslationtay'"
            ],
            "application/vnd.google.colaboratory.intrinsic+json": {
              "type": "string"
            }
          },
          "metadata": {},
          "execution_count": 20
        }
      ]
    },
    {
      "cell_type": "code",
      "source": [],
      "metadata": {
        "id": "ZiN4_uFNijbI"
      },
      "execution_count": 20,
      "outputs": []
    },
    {
      "cell_type": "code",
      "source": [],
      "metadata": {
        "id": "t9LJS_FKjx76"
      },
      "execution_count": 20,
      "outputs": []
    },
    {
      "cell_type": "code",
      "source": [],
      "metadata": {
        "id": "g1FZUOFkjy_g"
      },
      "execution_count": 20,
      "outputs": []
    }
  ]
}